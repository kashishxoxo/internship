{
 "cells": [
  {
   "cell_type": "markdown",
   "id": "fe41b68a",
   "metadata": {},
   "source": [
    "**Task 4: Sentiment Analysis** - We classify wildfire causes into categories — treating them as indicators of negative, neutral, or unknown sentiment — based on impact and human involvement."
   ]
  },
  {
   "cell_type": "code",
   "execution_count": 2,
   "id": "5927d259",
   "metadata": {},
   "outputs": [],
   "source": [
    "import pandas as pd\n",
    "import matplotlib.pyplot as plt\n",
    "import seaborn as sns\n",
    "\n",
    "\n",
    "df = pd.read_csv(\"California Wildfire Damage.csv\")"
   ]
  },
  {
   "cell_type": "markdown",
   "id": "af29e74d",
   "metadata": {},
   "source": [
    "**Create Sentiment Mapping** - We create a new Sentiment column by mapping each wildfire cause to a basic sentiment: Negative (if human-caused), Neutral (natural), or Unknown."
   ]
  },
  {
   "cell_type": "code",
   "execution_count": 3,
   "id": "cba3410e",
   "metadata": {},
   "outputs": [
    {
     "data": {
      "text/html": [
       "<div>\n",
       "<style scoped>\n",
       "    .dataframe tbody tr th:only-of-type {\n",
       "        vertical-align: middle;\n",
       "    }\n",
       "\n",
       "    .dataframe tbody tr th {\n",
       "        vertical-align: top;\n",
       "    }\n",
       "\n",
       "    .dataframe thead th {\n",
       "        text-align: right;\n",
       "    }\n",
       "</style>\n",
       "<table border=\"1\" class=\"dataframe\">\n",
       "  <thead>\n",
       "    <tr style=\"text-align: right;\">\n",
       "      <th></th>\n",
       "      <th>Cause</th>\n",
       "      <th>Sentiment</th>\n",
       "    </tr>\n",
       "  </thead>\n",
       "  <tbody>\n",
       "    <tr>\n",
       "      <th>0</th>\n",
       "      <td>Lightning</td>\n",
       "      <td>Neutral</td>\n",
       "    </tr>\n",
       "    <tr>\n",
       "      <th>1</th>\n",
       "      <td>Lightning</td>\n",
       "      <td>Neutral</td>\n",
       "    </tr>\n",
       "    <tr>\n",
       "      <th>2</th>\n",
       "      <td>Human Activity</td>\n",
       "      <td>Negative</td>\n",
       "    </tr>\n",
       "    <tr>\n",
       "      <th>3</th>\n",
       "      <td>Unknown</td>\n",
       "      <td>Unknown</td>\n",
       "    </tr>\n",
       "    <tr>\n",
       "      <th>4</th>\n",
       "      <td>Unknown</td>\n",
       "      <td>Unknown</td>\n",
       "    </tr>\n",
       "  </tbody>\n",
       "</table>\n",
       "</div>"
      ],
      "text/plain": [
       "            Cause Sentiment\n",
       "0       Lightning   Neutral\n",
       "1       Lightning   Neutral\n",
       "2  Human Activity  Negative\n",
       "3         Unknown   Unknown\n",
       "4         Unknown   Unknown"
      ]
     },
     "execution_count": 3,
     "metadata": {},
     "output_type": "execute_result"
    }
   ],
   "source": [
    "\n",
    "sentiment_map = {\n",
    "    \"Human Activity\": \"Negative\",\n",
    "    \"Lightning\": \"Neutral\",\n",
    "    \"Unknown\": \"Unknown\"\n",
    "}\n",
    "\n",
    "\n",
    "df[\"Sentiment\"] = df[\"Cause\"].map(sentiment_map)\n",
    "\n",
    "\n",
    "df[[\"Cause\", \"Sentiment\"]].head()"
   ]
  },
  {
   "cell_type": "markdown",
   "id": "42fa918d",
   "metadata": {},
   "source": [
    "**Sentiment Counts**-We count how many incidents fall under each sentiment to see how often human actions are involved."
   ]
  },
  {
   "cell_type": "code",
   "execution_count": 4,
   "id": "d335d141",
   "metadata": {},
   "outputs": [
    {
     "data": {
      "text/plain": [
       "Sentiment\n",
       "Negative    38\n",
       "Neutral     31\n",
       "Unknown     31\n",
       "Name: count, dtype: int64"
      ]
     },
     "execution_count": 4,
     "metadata": {},
     "output_type": "execute_result"
    }
   ],
   "source": [
    "sentiment_counts = df[\"Sentiment\"].value_counts()\n",
    "sentiment_counts"
   ]
  },
  {
   "cell_type": "markdown",
   "id": "e66b5030",
   "metadata": {},
   "source": [
    " **Add Sentiment to Summary Analysis** - This shows the average damage, loss, and casualties for each sentiment. Human-caused fires likely result in higher harm."
   ]
  },
  {
   "cell_type": "code",
   "execution_count": 5,
   "id": "90bf3679",
   "metadata": {},
   "outputs": [
    {
     "data": {
      "text/html": [
       "<div>\n",
       "<style scoped>\n",
       "    .dataframe tbody tr th:only-of-type {\n",
       "        vertical-align: middle;\n",
       "    }\n",
       "\n",
       "    .dataframe tbody tr th {\n",
       "        vertical-align: top;\n",
       "    }\n",
       "\n",
       "    .dataframe thead th {\n",
       "        text-align: right;\n",
       "    }\n",
       "</style>\n",
       "<table border=\"1\" class=\"dataframe\">\n",
       "  <thead>\n",
       "    <tr style=\"text-align: right;\">\n",
       "      <th></th>\n",
       "      <th>Area_Burned (Acres)</th>\n",
       "      <th>Estimated_Financial_Loss (Million $)</th>\n",
       "      <th>Fatalities</th>\n",
       "      <th>Injuries</th>\n",
       "    </tr>\n",
       "    <tr>\n",
       "      <th>Sentiment</th>\n",
       "      <th></th>\n",
       "      <th></th>\n",
       "      <th></th>\n",
       "      <th></th>\n",
       "    </tr>\n",
       "  </thead>\n",
       "  <tbody>\n",
       "    <tr>\n",
       "      <th>Negative</th>\n",
       "      <td>27573.76</td>\n",
       "      <td>2246.19</td>\n",
       "      <td>9.08</td>\n",
       "      <td>41.42</td>\n",
       "    </tr>\n",
       "    <tr>\n",
       "      <th>Neutral</th>\n",
       "      <td>24832.65</td>\n",
       "      <td>2579.40</td>\n",
       "      <td>9.13</td>\n",
       "      <td>38.90</td>\n",
       "    </tr>\n",
       "    <tr>\n",
       "      <th>Unknown</th>\n",
       "      <td>26952.61</td>\n",
       "      <td>2396.56</td>\n",
       "      <td>11.77</td>\n",
       "      <td>45.94</td>\n",
       "    </tr>\n",
       "  </tbody>\n",
       "</table>\n",
       "</div>"
      ],
      "text/plain": [
       "           Area_Burned (Acres)  Estimated_Financial_Loss (Million $)  \\\n",
       "Sentiment                                                              \n",
       "Negative              27573.76                               2246.19   \n",
       "Neutral               24832.65                               2579.40   \n",
       "Unknown               26952.61                               2396.56   \n",
       "\n",
       "           Fatalities  Injuries  \n",
       "Sentiment                        \n",
       "Negative         9.08     41.42  \n",
       "Neutral          9.13     38.90  \n",
       "Unknown         11.77     45.94  "
      ]
     },
     "execution_count": 5,
     "metadata": {},
     "output_type": "execute_result"
    }
   ],
   "source": [
    "sentiment_summary = df.groupby(\"Sentiment\")[[\n",
    "    \"Area_Burned (Acres)\",\n",
    "    \"Estimated_Financial_Loss (Million $)\",\n",
    "    \"Fatalities\",\n",
    "    \"Injuries\"\n",
    "]].mean().round(2)\n",
    "\n",
    "sentiment_summary"
   ]
  },
  {
   "cell_type": "markdown",
   "id": "24ccee22",
   "metadata": {},
   "source": [
    "**Count of Incidents per Sentiment** - Shows how many incidents are negative, neutral, or unknown in a single glance."
   ]
  },
  {
   "cell_type": "code",
   "execution_count": 6,
   "id": "5d9ac0ab",
   "metadata": {},
   "outputs": [
    {
     "data": {
      "text/plain": [
       "Sentiment\n",
       "Negative    38\n",
       "Neutral     31\n",
       "Unknown     31\n",
       "Name: count, dtype: int64"
      ]
     },
     "execution_count": 6,
     "metadata": {},
     "output_type": "execute_result"
    }
   ],
   "source": [
    "df['Sentiment'].value_counts()"
   ]
  },
  {
   "cell_type": "markdown",
   "id": "df3edd71",
   "metadata": {},
   "source": [
    "**Average Financial Loss by Sentiment** - Shows which sentiment type (cause category) results in the highest average financial loss."
   ]
  },
  {
   "cell_type": "code",
   "execution_count": 7,
   "id": "1480e112",
   "metadata": {},
   "outputs": [
    {
     "data": {
      "text/plain": [
       "Sentiment\n",
       "Negative    2246.19\n",
       "Neutral     2579.40\n",
       "Unknown     2396.56\n",
       "Name: Estimated_Financial_Loss (Million $), dtype: float64"
      ]
     },
     "execution_count": 7,
     "metadata": {},
     "output_type": "execute_result"
    }
   ],
   "source": [
    "df.groupby(\"Sentiment\")[\"Estimated_Financial_Loss (Million $)\"].mean().round(2)"
   ]
  },
  {
   "cell_type": "markdown",
   "id": "55707138",
   "metadata": {},
   "source": [
    "**Maximum Area Burned by Sentiment** - Tells us the worst-case fire size per sentiment category."
   ]
  },
  {
   "cell_type": "code",
   "execution_count": 8,
   "id": "f74b9dce",
   "metadata": {},
   "outputs": [
    {
     "data": {
      "text/plain": [
       "Sentiment\n",
       "Negative    48680\n",
       "Neutral     49653\n",
       "Unknown     47674\n",
       "Name: Area_Burned (Acres), dtype: int64"
      ]
     },
     "execution_count": 8,
     "metadata": {},
     "output_type": "execute_result"
    }
   ],
   "source": [
    "df.groupby(\"Sentiment\")[\"Area_Burned (Acres)\"].max()\n"
   ]
  },
  {
   "cell_type": "markdown",
   "id": "fe48a79f",
   "metadata": {},
   "source": [
    "**Total Fatalities and Injuries by Sentiment** - Useful to analyze how human-caused fires (Negative) affect life and health compared to natural ones."
   ]
  },
  {
   "cell_type": "code",
   "execution_count": 9,
   "id": "9aa06359",
   "metadata": {},
   "outputs": [
    {
     "data": {
      "text/html": [
       "<div>\n",
       "<style scoped>\n",
       "    .dataframe tbody tr th:only-of-type {\n",
       "        vertical-align: middle;\n",
       "    }\n",
       "\n",
       "    .dataframe tbody tr th {\n",
       "        vertical-align: top;\n",
       "    }\n",
       "\n",
       "    .dataframe thead th {\n",
       "        text-align: right;\n",
       "    }\n",
       "</style>\n",
       "<table border=\"1\" class=\"dataframe\">\n",
       "  <thead>\n",
       "    <tr style=\"text-align: right;\">\n",
       "      <th></th>\n",
       "      <th>Fatalities</th>\n",
       "      <th>Injuries</th>\n",
       "    </tr>\n",
       "    <tr>\n",
       "      <th>Sentiment</th>\n",
       "      <th></th>\n",
       "      <th></th>\n",
       "    </tr>\n",
       "  </thead>\n",
       "  <tbody>\n",
       "    <tr>\n",
       "      <th>Negative</th>\n",
       "      <td>345</td>\n",
       "      <td>1574</td>\n",
       "    </tr>\n",
       "    <tr>\n",
       "      <th>Neutral</th>\n",
       "      <td>283</td>\n",
       "      <td>1206</td>\n",
       "    </tr>\n",
       "    <tr>\n",
       "      <th>Unknown</th>\n",
       "      <td>365</td>\n",
       "      <td>1424</td>\n",
       "    </tr>\n",
       "  </tbody>\n",
       "</table>\n",
       "</div>"
      ],
      "text/plain": [
       "           Fatalities  Injuries\n",
       "Sentiment                      \n",
       "Negative          345      1574\n",
       "Neutral           283      1206\n",
       "Unknown           365      1424"
      ]
     },
     "execution_count": 9,
     "metadata": {},
     "output_type": "execute_result"
    }
   ],
   "source": [
    "df.groupby(\"Sentiment\")[[\"Fatalities\", \"Injuries\"]].sum()"
   ]
  },
  {
   "cell_type": "markdown",
   "id": "91e204f5",
   "metadata": {},
   "source": [
    "**Detailed Sentiment-Based Summary Table** - A complete table comparing average damage caused by each sentiment category — very internship-worthy."
   ]
  },
  {
   "cell_type": "code",
   "execution_count": 10,
   "id": "98b3dec5",
   "metadata": {},
   "outputs": [
    {
     "data": {
      "text/html": [
       "<div>\n",
       "<style scoped>\n",
       "    .dataframe tbody tr th:only-of-type {\n",
       "        vertical-align: middle;\n",
       "    }\n",
       "\n",
       "    .dataframe tbody tr th {\n",
       "        vertical-align: top;\n",
       "    }\n",
       "\n",
       "    .dataframe thead th {\n",
       "        text-align: right;\n",
       "    }\n",
       "</style>\n",
       "<table border=\"1\" class=\"dataframe\">\n",
       "  <thead>\n",
       "    <tr style=\"text-align: right;\">\n",
       "      <th></th>\n",
       "      <th>Area_Burned (Acres)</th>\n",
       "      <th>Homes_Destroyed</th>\n",
       "      <th>Estimated_Financial_Loss (Million $)</th>\n",
       "      <th>Injuries</th>\n",
       "      <th>Fatalities</th>\n",
       "    </tr>\n",
       "    <tr>\n",
       "      <th>Sentiment</th>\n",
       "      <th></th>\n",
       "      <th></th>\n",
       "      <th></th>\n",
       "      <th></th>\n",
       "      <th></th>\n",
       "    </tr>\n",
       "  </thead>\n",
       "  <tbody>\n",
       "    <tr>\n",
       "      <th>Negative</th>\n",
       "      <td>27573.8</td>\n",
       "      <td>879.8</td>\n",
       "      <td>2246.2</td>\n",
       "      <td>41.4</td>\n",
       "      <td>9.1</td>\n",
       "    </tr>\n",
       "    <tr>\n",
       "      <th>Neutral</th>\n",
       "      <td>24832.6</td>\n",
       "      <td>981.4</td>\n",
       "      <td>2579.4</td>\n",
       "      <td>38.9</td>\n",
       "      <td>9.1</td>\n",
       "    </tr>\n",
       "    <tr>\n",
       "      <th>Unknown</th>\n",
       "      <td>26952.6</td>\n",
       "      <td>978.5</td>\n",
       "      <td>2396.6</td>\n",
       "      <td>45.9</td>\n",
       "      <td>11.8</td>\n",
       "    </tr>\n",
       "  </tbody>\n",
       "</table>\n",
       "</div>"
      ],
      "text/plain": [
       "           Area_Burned (Acres)  Homes_Destroyed  \\\n",
       "Sentiment                                         \n",
       "Negative               27573.8            879.8   \n",
       "Neutral                24832.6            981.4   \n",
       "Unknown                26952.6            978.5   \n",
       "\n",
       "           Estimated_Financial_Loss (Million $)  Injuries  Fatalities  \n",
       "Sentiment                                                              \n",
       "Negative                                 2246.2      41.4         9.1  \n",
       "Neutral                                  2579.4      38.9         9.1  \n",
       "Unknown                                  2396.6      45.9        11.8  "
      ]
     },
     "execution_count": 10,
     "metadata": {},
     "output_type": "execute_result"
    }
   ],
   "source": [
    "df.groupby(\"Sentiment\")[[\n",
    "    \"Area_Burned (Acres)\",\n",
    "    \"Homes_Destroyed\",\n",
    "    \"Estimated_Financial_Loss (Million $)\",\n",
    "    \"Injuries\",\n",
    "    \"Fatalities\"\n",
    "]].mean().round(1)\n"
   ]
  },
  {
   "cell_type": "code",
   "execution_count": null,
   "id": "5ccec050",
   "metadata": {},
   "outputs": [],
   "source": []
  }
 ],
 "metadata": {
  "kernelspec": {
   "display_name": "Python 3",
   "language": "python",
   "name": "python3"
  },
  "language_info": {
   "codemirror_mode": {
    "name": "ipython",
    "version": 3
   },
   "file_extension": ".py",
   "mimetype": "text/x-python",
   "name": "python",
   "nbconvert_exporter": "python",
   "pygments_lexer": "ipython3",
   "version": "3.12.2"
  }
 },
 "nbformat": 4,
 "nbformat_minor": 5
}
